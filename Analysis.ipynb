{
 "cells": [
  {
   "cell_type": "markdown",
   "id": "47e72c2d",
   "metadata": {},
   "source": [
    "# Analysis of Bias and Variance in a linear regression model\n",
    "In this notebook, using a salary prediction dataset called salary prediction dataset https://www.kaggle.com/datasets/rkiattisak/salaly-prediction-for-beginer \n",
    ",we will analyze the bias and prediction using different features of the dataset"
   ]
  },
  {
   "cell_type": "code",
   "execution_count": 1,
   "id": "a1c06759",
   "metadata": {},
   "outputs": [],
   "source": [
    "# Import libraries\n",
    "import numpy as np\n",
    "import pandas as pd\n",
    "import matplotlib.pyplot as plt\n",
    "import seaborn as sns\n",
    "from sklearn.linear_model import LinearRegression\n",
    "from sklearn.model_selection import train_test_split\n",
    "from sklearn.metrics import mean_squared_error, r2_score\n",
    "from sklearn.preprocessing import StandardScaler, PolynomialFeatures, LabelEncoder\n",
    "from mlxtend.evaluate import bias_variance_decomp"
   ]
  },
  {
   "cell_type": "code",
   "execution_count": 2,
   "id": "a9f570be",
   "metadata": {},
   "outputs": [],
   "source": [
    "# Read the data into a Pandas Dataframe\n",
    "\n",
    "salary_data = pd.read_csv(\"data/Salary Data.csv\")"
   ]
  },
  {
   "cell_type": "code",
   "execution_count": 3,
   "id": "b0d672f4",
   "metadata": {},
   "outputs": [
    {
     "data": {
      "text/html": [
       "<div>\n",
       "<style scoped>\n",
       "    .dataframe tbody tr th:only-of-type {\n",
       "        vertical-align: middle;\n",
       "    }\n",
       "\n",
       "    .dataframe tbody tr th {\n",
       "        vertical-align: top;\n",
       "    }\n",
       "\n",
       "    .dataframe thead th {\n",
       "        text-align: right;\n",
       "    }\n",
       "</style>\n",
       "<table border=\"1\" class=\"dataframe\">\n",
       "  <thead>\n",
       "    <tr style=\"text-align: right;\">\n",
       "      <th></th>\n",
       "      <th>Age</th>\n",
       "      <th>Gender</th>\n",
       "      <th>Education Level</th>\n",
       "      <th>Job Title</th>\n",
       "      <th>Years of Experience</th>\n",
       "      <th>Salary</th>\n",
       "    </tr>\n",
       "  </thead>\n",
       "  <tbody>\n",
       "    <tr>\n",
       "      <th>0</th>\n",
       "      <td>32.0</td>\n",
       "      <td>Male</td>\n",
       "      <td>Bachelor's</td>\n",
       "      <td>Software Engineer</td>\n",
       "      <td>5.0</td>\n",
       "      <td>90000.0</td>\n",
       "    </tr>\n",
       "    <tr>\n",
       "      <th>1</th>\n",
       "      <td>28.0</td>\n",
       "      <td>Female</td>\n",
       "      <td>Master's</td>\n",
       "      <td>Data Analyst</td>\n",
       "      <td>3.0</td>\n",
       "      <td>65000.0</td>\n",
       "    </tr>\n",
       "    <tr>\n",
       "      <th>2</th>\n",
       "      <td>45.0</td>\n",
       "      <td>Male</td>\n",
       "      <td>PhD</td>\n",
       "      <td>Senior Manager</td>\n",
       "      <td>15.0</td>\n",
       "      <td>150000.0</td>\n",
       "    </tr>\n",
       "    <tr>\n",
       "      <th>3</th>\n",
       "      <td>36.0</td>\n",
       "      <td>Female</td>\n",
       "      <td>Bachelor's</td>\n",
       "      <td>Sales Associate</td>\n",
       "      <td>7.0</td>\n",
       "      <td>60000.0</td>\n",
       "    </tr>\n",
       "    <tr>\n",
       "      <th>4</th>\n",
       "      <td>52.0</td>\n",
       "      <td>Male</td>\n",
       "      <td>Master's</td>\n",
       "      <td>Director</td>\n",
       "      <td>20.0</td>\n",
       "      <td>200000.0</td>\n",
       "    </tr>\n",
       "  </tbody>\n",
       "</table>\n",
       "</div>"
      ],
      "text/plain": [
       "    Age  Gender Education Level          Job Title  Years of Experience  \\\n",
       "0  32.0    Male      Bachelor's  Software Engineer                  5.0   \n",
       "1  28.0  Female        Master's       Data Analyst                  3.0   \n",
       "2  45.0    Male             PhD     Senior Manager                 15.0   \n",
       "3  36.0  Female      Bachelor's    Sales Associate                  7.0   \n",
       "4  52.0    Male        Master's           Director                 20.0   \n",
       "\n",
       "     Salary  \n",
       "0   90000.0  \n",
       "1   65000.0  \n",
       "2  150000.0  \n",
       "3   60000.0  \n",
       "4  200000.0  "
      ]
     },
     "execution_count": 3,
     "metadata": {},
     "output_type": "execute_result"
    }
   ],
   "source": [
    "salary_data.head()"
   ]
  },
  {
   "cell_type": "code",
   "execution_count": 4,
   "id": "a795af91",
   "metadata": {},
   "outputs": [
    {
     "data": {
      "text/plain": [
       "12"
      ]
     },
     "execution_count": 4,
     "metadata": {},
     "output_type": "execute_result"
    }
   ],
   "source": [
    "# Check for missing values\n",
    "salary_data.isnull().sum().sum()"
   ]
  },
  {
   "cell_type": "code",
   "execution_count": 5,
   "id": "45fb2384",
   "metadata": {},
   "outputs": [
    {
     "data": {
      "text/plain": [
       "0"
      ]
     },
     "execution_count": 5,
     "metadata": {},
     "output_type": "execute_result"
    }
   ],
   "source": [
    "# Drop any rows that have missing values\n",
    "salary_data = salary_data.dropna()\n",
    "salary_data.isnull().sum().sum()"
   ]
  },
  {
   "cell_type": "markdown",
   "id": "07d3dfba",
   "metadata": {},
   "source": [
    "### We want to build a regression model that can predict salary based on the following features:\n",
    "- Age\n",
    "- Educational Level\n",
    "- Years of Experience\n",
    "- Gender\n",
    "- Job Title"
   ]
  },
  {
   "cell_type": "code",
   "execution_count": 6,
   "id": "480af3c7",
   "metadata": {},
   "outputs": [
    {
     "name": "stdout",
     "output_type": "stream",
     "text": [
      "['Male' 'Female']\n",
      "[\"Bachelor's\" \"Master's\" 'PhD']\n",
      "0                  Software Engineer\n",
      "1                       Data Analyst\n",
      "2                     Senior Manager\n",
      "3                    Sales Associate\n",
      "4                           Director\n",
      "                   ...              \n",
      "370         Senior Marketing Analyst\n",
      "371           Director of Operations\n",
      "372           Junior Project Manager\n",
      "373    Senior Operations Coordinator\n",
      "374          Senior Business Analyst\n",
      "Name: Job Title, Length: 373, dtype: object\n"
     ]
    }
   ],
   "source": [
    "# Let's examine the categorical columns\n",
    "print(salary_data['Gender'].unique())\n",
    "print(salary_data['Education Level'].unique())\n",
    "print(salary_data['Job Title'])"
   ]
  },
  {
   "cell_type": "markdown",
   "id": "0be19bca",
   "metadata": {},
   "source": [
    "### We will use LabelEncoder to conver Categorical values to numeric"
   ]
  },
  {
   "cell_type": "code",
   "execution_count": 7,
   "id": "e3a49137",
   "metadata": {},
   "outputs": [],
   "source": [
    "# Encoder function\n",
    "def Encoder (df):\n",
    "    columnsToEncode = list(df.select_dtypes(include = ['category', 'object']))\n",
    "    le = LabelEncoder()\n",
    "    for feature in columnsToEncode:\n",
    "        try:\n",
    "            df[feature] = le.fit_transform(df[feature])\n",
    "        except:\n",
    "            print('Error encoding '+feature)\n",
    "    return df"
   ]
  },
  {
   "cell_type": "code",
   "execution_count": 8,
   "id": "a27cdb7e",
   "metadata": {},
   "outputs": [
    {
     "data": {
      "text/html": [
       "<div>\n",
       "<style scoped>\n",
       "    .dataframe tbody tr th:only-of-type {\n",
       "        vertical-align: middle;\n",
       "    }\n",
       "\n",
       "    .dataframe tbody tr th {\n",
       "        vertical-align: top;\n",
       "    }\n",
       "\n",
       "    .dataframe thead th {\n",
       "        text-align: right;\n",
       "    }\n",
       "</style>\n",
       "<table border=\"1\" class=\"dataframe\">\n",
       "  <thead>\n",
       "    <tr style=\"text-align: right;\">\n",
       "      <th></th>\n",
       "      <th>Age</th>\n",
       "      <th>Gender</th>\n",
       "      <th>Education Level</th>\n",
       "      <th>Job Title</th>\n",
       "      <th>Years of Experience</th>\n",
       "      <th>Salary</th>\n",
       "    </tr>\n",
       "  </thead>\n",
       "  <tbody>\n",
       "    <tr>\n",
       "      <th>0</th>\n",
       "      <td>32.0</td>\n",
       "      <td>1</td>\n",
       "      <td>0</td>\n",
       "      <td>159</td>\n",
       "      <td>5.0</td>\n",
       "      <td>90000.0</td>\n",
       "    </tr>\n",
       "    <tr>\n",
       "      <th>1</th>\n",
       "      <td>28.0</td>\n",
       "      <td>0</td>\n",
       "      <td>1</td>\n",
       "      <td>17</td>\n",
       "      <td>3.0</td>\n",
       "      <td>65000.0</td>\n",
       "    </tr>\n",
       "    <tr>\n",
       "      <th>2</th>\n",
       "      <td>45.0</td>\n",
       "      <td>1</td>\n",
       "      <td>2</td>\n",
       "      <td>130</td>\n",
       "      <td>15.0</td>\n",
       "      <td>150000.0</td>\n",
       "    </tr>\n",
       "    <tr>\n",
       "      <th>3</th>\n",
       "      <td>36.0</td>\n",
       "      <td>0</td>\n",
       "      <td>0</td>\n",
       "      <td>101</td>\n",
       "      <td>7.0</td>\n",
       "      <td>60000.0</td>\n",
       "    </tr>\n",
       "    <tr>\n",
       "      <th>4</th>\n",
       "      <td>52.0</td>\n",
       "      <td>1</td>\n",
       "      <td>1</td>\n",
       "      <td>22</td>\n",
       "      <td>20.0</td>\n",
       "      <td>200000.0</td>\n",
       "    </tr>\n",
       "  </tbody>\n",
       "</table>\n",
       "</div>"
      ],
      "text/plain": [
       "    Age  Gender  Education Level  Job Title  Years of Experience    Salary\n",
       "0  32.0       1                0        159                  5.0   90000.0\n",
       "1  28.0       0                1         17                  3.0   65000.0\n",
       "2  45.0       1                2        130                 15.0  150000.0\n",
       "3  36.0       0                0        101                  7.0   60000.0\n",
       "4  52.0       1                1         22                 20.0  200000.0"
      ]
     },
     "execution_count": 8,
     "metadata": {},
     "output_type": "execute_result"
    }
   ],
   "source": [
    "categorical_features = ['Gender', 'Education Level', 'Job Title']\n",
    "salary_data = Encoder(salary_data)\n",
    "salary_data.head()"
   ]
  },
  {
   "cell_type": "markdown",
   "id": "5540c5a1",
   "metadata": {},
   "source": [
    "## Regression Model\n",
    "### 1. Let's try with only one feature (input), for example years of experience "
   ]
  },
  {
   "cell_type": "code",
   "execution_count": 9,
   "id": "a8f43e0c",
   "metadata": {},
   "outputs": [],
   "source": [
    "df_binary = salary_data[['Years of Experience', 'Salary']]"
   ]
  },
  {
   "cell_type": "markdown",
   "id": "d2d49485",
   "metadata": {},
   "source": [
    "### 1.1 Explore the data"
   ]
  },
  {
   "cell_type": "code",
   "execution_count": 10,
   "id": "5117a1c6",
   "metadata": {},
   "outputs": [
    {
     "data": {
      "image/png": "[encoded data removed]",
      "text/plain": [
       "<Figure size 360x360 with 1 Axes>"
      ]
     },
     "metadata": {
      "needs_background": "light"
     },
     "output_type": "display_data"
    }
   ],
   "source": [
    "sns.lmplot(x = 'Years of Experience', y='Salary', data = df_binary, order = 2, ci = None)\n",
    "plt.show()"
   ]
  },
  {
   "cell_type": "markdown",
   "id": "e2053a5e",
   "metadata": {},
   "source": [
    "### 1.2 Train our model"
   ]
  },
  {
   "cell_type": "code",
   "execution_count": 11,
   "id": "2fb513f4",
   "metadata": {},
   "outputs": [],
   "source": [
    "# Separate data into indpendent (X) and dependent variables \n",
    "# Convert the data frame into a numpy array since each dataframe contains only one column\n",
    "X = np.array(df_binary['Years of Experience']).reshape(-1,1)\n",
    "y = np.array(df_binary['Salary'])"
   ]
  },
  {
   "cell_type": "code",
   "execution_count": 12,
   "id": "b16be183",
   "metadata": {},
   "outputs": [],
   "source": [
    "# Define a function to split the data\n",
    "def prepare_train_cv_test (X, y):\n",
    "    \n",
    "    # get 60% of the dataset as the training set.  Put the remaining 40% in temporary variables\n",
    "    X_train, X_, y_train, y_ = train_test_split(X, y, test_size = 0.40, random_state = 55, shuffle=True)\n",
    "\n",
    "    # Split the 40% subset above into two: one half for cross validation and the other for the test set\n",
    "    X_cv, X_test, y_cv, y_test = train_test_split(X_, y_,  test_size = .50, random_state = 55, shuffle=True)\n",
    "    \n",
    "    return X_train, y_train, X_cv, y_cv, X_test, y_test"
   ]
  },
  {
   "cell_type": "code",
   "execution_count": 13,
   "id": "9810e473",
   "metadata": {},
   "outputs": [],
   "source": [
    "X_train, y_train, X_cv, y_cv, X_test, y_test = prepare_train_cv_test(X, y) "
   ]
  },
  {
   "cell_type": "code",
   "execution_count": 14,
   "id": "e885707b",
   "metadata": {},
   "outputs": [
    {
     "name": "stdout",
     "output_type": "stream",
     "text": [
      " Training Data shape: (223, 1)\n",
      " Cross Validation Data shape: (75, 1)\n",
      " Test Data shape: (75, 1)\n"
     ]
    }
   ],
   "source": [
    "print(f\" Training Data shape: {X_train.shape}\")\n",
    "print(f\" Cross Validation Data shape: {X_cv.shape}\")\n",
    "print(f\" Test Data shape: {X_test.shape}\")"
   ]
  },
  {
   "cell_type": "markdown",
   "id": "36446186",
   "metadata": {},
   "source": [
    "### 1.3 Explore the results"
   ]
  },
  {
   "cell_type": "code",
   "execution_count": 15,
   "id": "0b531f1b",
   "metadata": {},
   "outputs": [],
   "source": [
    "model= LinearRegression()"
   ]
  },
  {
   "cell_type": "code",
   "execution_count": 16,
   "id": "e463812b",
   "metadata": {},
   "outputs": [
    {
     "name": "stdout",
     "output_type": "stream",
     "text": [
      "Average expected loss: 324624646.931\n",
      "Average bias: 321868807.209\n",
      "Average variance: 2755839.722\n"
     ]
    }
   ],
   "source": [
    "avg_expected_loss, avg_bias, avg_var = bias_variance_decomp(\n",
    "                model, X_train, y_train, X_cv, y_cv, loss='mse', random_seed=16)\n",
    "print('Average expected loss: %.3f' % avg_expected_loss)\n",
    "print('Average bias: %.3f' % avg_bias)\n",
    "print('Average variance: %.3f' % avg_var)"
   ]
  },
  {
   "cell_type": "code",
   "execution_count": 17,
   "id": "83f39361",
   "metadata": {},
   "outputs": [
    {
     "name": "stdout",
     "output_type": "stream",
     "text": [
      "Coefficients: \n",
      " [6766.36681459]\n",
      "Mean squared error: 322126385.46\n",
      "Coefficient of determination: 0.88\n"
     ]
    },
    {
     "data": {
      "image/png": "[encoded data removed]",
      "text/plain": [
       "<Figure size 432x288 with 1 Axes>"
      ]
     },
     "metadata": {},
     "output_type": "display_data"
    }
   ],
   "source": [
    "model.fit(X_train, y_train)\n",
    "y_pred_cv = model.predict(X_cv)\n",
    "y_pred_train = model.predict(X_train)\n",
    "\n",
    "\n",
    "# The coefficients\n",
    "print(\"Coefficients: \\n\", model.coef_)\n",
    "# The mean squared error\n",
    "print(\"Mean squared error: %.2f\" % mean_squared_error(y_cv, y_pred_cv))\n",
    "# The coefficient of determination: 1 is perfect prediction\n",
    "print(\"Coefficient of determination: %.2f\" % r2_score(y_cv, y_pred_cv))\n",
    "\n",
    "# Plot outputs\n",
    "plt.scatter(X_cv, y_cv, color=\"black\")\n",
    "plt.plot(X_cv, y_pred_cv, color=\"blue\", linewidth=3)\n",
    "\n",
    "plt.xticks(())\n",
    "plt.yticks(())\n",
    "\n",
    "plt.show()"
   ]
  },
  {
   "cell_type": "code",
   "execution_count": 18,
   "id": "7f88ed6d",
   "metadata": {},
   "outputs": [
    {
     "name": "stdout",
     "output_type": "stream",
     "text": [
      "Training MSE : 306379946\n",
      "Cross Validation MSE:  322126385\n"
     ]
    }
   ],
   "source": [
    "train_mse = mean_squared_error(y_train, y_pred_train)\n",
    "cv_mse = mean_squared_error(y_cv, y_pred_cv) \n",
    "print(f\"Training MSE : {train_mse:.0f}\")\n",
    "print(f\"Cross Validation MSE: {cv_mse: .0f}\")"
   ]
  },
  {
   "cell_type": "markdown",
   "id": "40fee582",
   "metadata": {},
   "source": [
    "#### The results show that the both training and Cross Validation Bias and Variance are high. This maybe due to high bias (underfit). We could one or more of the following:\n",
    "\n",
    "- Try adding additional features\n",
    "- Try decreasing the regulatiztion parameter\n",
    "- Try adding polynomial features\n",
    "\n",
    "We will try the first option\n"
   ]
  },
  {
   "cell_type": "markdown",
   "id": "f73d1c5d",
   "metadata": {},
   "source": [
    "### 2.1 Let's try adding more features, age, gender, and job title"
   ]
  },
  {
   "cell_type": "code",
   "execution_count": 19,
   "id": "9812083b",
   "metadata": {},
   "outputs": [],
   "source": [
    "X = salary_data[['Age', 'Job Title', 'Years of Experience', 'Gender', 'Job Title']]\n",
    "y = salary_data['Salary']"
   ]
  },
  {
   "cell_type": "markdown",
   "id": "8c2bde0c",
   "metadata": {},
   "source": [
    "### We will now split the data into train, cross validation, and test sets"
   ]
  },
  {
   "cell_type": "code",
   "execution_count": 20,
   "id": "7fcf7280",
   "metadata": {},
   "outputs": [],
   "source": [
    "X_train, y_train, X_cv, y_cv, X_test, y_test = prepare_train_cv_test (X, y)"
   ]
  },
  {
   "cell_type": "code",
   "execution_count": 21,
   "id": "8e2a9e59",
   "metadata": {},
   "outputs": [
    {
     "name": "stdout",
     "output_type": "stream",
     "text": [
      " Training Data shape: (223, 5)\n",
      " Cross Validation Data shape: (75, 5)\n",
      " Test Data shape: (75, 5)\n",
      "y_train shape: (223,)\n"
     ]
    }
   ],
   "source": [
    "print(f\" Training Data shape: {X_train.shape}\")\n",
    "print(f\" Cross Validation Data shape: {X_cv.shape}\")\n",
    "print(f\" Test Data shape: {X_test.shape}\")\n",
    "print(f\"y_train shape: {y_train.shape}\")"
   ]
  },
  {
   "cell_type": "code",
   "execution_count": 22,
   "id": "70c97538",
   "metadata": {},
   "outputs": [],
   "source": [
    "# The data has different range of values, for example age and years of experience have a large range than \n",
    "# Gender and Educational Level.  We want to scale the data into new values that are easier to compare\n",
    "# We will use scikit-learn's StandardScaler\n",
    "scale = StandardScaler()\n",
    "X_train_scaled = scale.fit_transform(X_train)\n",
    "X_cv_scaled = scale.fit_transform(X_cv)\n",
    "X_test_scaled = scale.fit_transform(X_test)"
   ]
  },
  {
   "cell_type": "markdown",
   "id": "0f00a6c3",
   "metadata": {},
   "source": [
    "### 2.3 Explore the results"
   ]
  },
  {
   "cell_type": "code",
   "execution_count": 25,
   "id": "616148c8",
   "metadata": {},
   "outputs": [
    {
     "name": "stdout",
     "output_type": "stream",
     "text": [
      "Coefficients: \n",
      " [12262.69064255  1295.8949297  31524.37056416  4124.46228041\n",
      "  1295.8949297 ]\n",
      "Mean squared error: 320780073.17\n",
      "Coefficient of determination: 0.88\n"
     ]
    }
   ],
   "source": [
    "model.fit(X_train_scaled, y_train)\n",
    "y_pred_cv = model.predict(X_cv_scaled)\n",
    "y_pred_train = model.predict(X_train_scaled)\n",
    "\n",
    "# The coefficients\n",
    "print(\"Coefficients: \\n\", model.coef_)\n",
    "# The mean squared error\n",
    "print(\"Mean squared error: %.2f\" % mean_squared_error(y_cv, y_pred_cv))\n",
    "# The coefficient of determination: 1 is perfect prediction\n",
    "print(\"Coefficient of determination: %.2f\" % r2_score(y_cv, y_pred_cv))"
   ]
  },
  {
   "cell_type": "code",
   "execution_count": 26,
   "id": "3f8caf61",
   "metadata": {},
   "outputs": [
    {
     "name": "stdout",
     "output_type": "stream",
     "text": [
      "Training MSE : 278971519\n",
      "Cross Validation MSE:  320780073\n"
     ]
    }
   ],
   "source": [
    "\n",
    "y_pred_train = model.predict(X_train_scaled)\n",
    "train_mse = mean_squared_error(y_train, y_pred_train)\n",
    "cv_mse = mean_squared_error(y_cv, y_pred_cv)\n",
    "print(f\"Training MSE : {train_mse:.0f}\")\n",
    "print(f\"Cross Validation MSE: {cv_mse: .0f}\")"
   ]
  },
  {
   "cell_type": "markdown",
   "id": "573e5aae",
   "metadata": {},
   "source": [
    "The accuracy the same as the model with only one feature (Job Experience).  Can we do better?"
   ]
  },
  {
   "cell_type": "markdown",
   "id": "a079bdfb",
   "metadata": {},
   "source": [
    "### 3.1 Let's try adding polynomial features"
   ]
  },
  {
   "cell_type": "code",
   "execution_count": 27,
   "id": "c3de7bf3",
   "metadata": {},
   "outputs": [],
   "source": [
    "poly = PolynomialFeatures(degree=3, include_bias=False)\n",
    "X_train_mapped = poly.fit_transform(X_train)\n",
    "X_cv_mapped = poly.fit_transform(X_cv)\n",
    "X_test_mapped = poly.fit_transform(X_test)"
   ]
  },
  {
   "cell_type": "code",
   "execution_count": 28,
   "id": "23aa7559",
   "metadata": {},
   "outputs": [],
   "source": [
    "X_train_mapped_scaled = scale.fit_transform(X_train_mapped)\n",
    "X_cv_mapped_scaled = scale.fit_transform(X_cv_mapped)\n",
    "X_test_mapped_scaled = scale.fit_transform(X_test_mapped)"
   ]
  },
  {
   "cell_type": "markdown",
   "id": "84b0b666",
   "metadata": {},
   "source": [
    "###  3.2 Train our model"
   ]
  },
  {
   "cell_type": "code",
   "execution_count": 29,
   "id": "a56b9a18",
   "metadata": {},
   "outputs": [
    {
     "data": {
      "text/plain": [
       "LinearRegression()"
      ]
     },
     "execution_count": 29,
     "metadata": {},
     "output_type": "execute_result"
    }
   ],
   "source": [
    "model.fit(X_train_mapped_scaled, y_train)\n"
   ]
  },
  {
   "cell_type": "markdown",
   "id": "81290139",
   "metadata": {},
   "source": [
    "### 3.3 Explore the results"
   ]
  },
  {
   "cell_type": "code",
   "execution_count": 30,
   "id": "63f0dec1",
   "metadata": {},
   "outputs": [
    {
     "name": "stdout",
     "output_type": "stream",
     "text": [
      "Coefficients: \n",
      " [-3.91763170e+06 -1.00614990e+05  4.15305075e+06 -6.90376010e+02\n",
      " -1.00614990e+05  1.17526322e+07  1.16103972e+05 -1.65391892e+07\n",
      " -5.08358185e+04  1.16103972e+05  6.58102474e+04 -2.84823907e+04\n",
      "  2.27425745e+04  6.58102474e+04  4.40568488e+06  4.47126371e+04\n",
      " -2.84823907e+04 -6.90376004e+02  2.27425745e+04  6.58102474e+04\n",
      " -9.19662172e+06  5.69950677e+04  1.64815197e+07  1.73766311e+05\n",
      "  5.69950677e+04 -7.46249512e+04 -8.23940927e+04 -7.94176231e+04\n",
      " -7.46249512e+04 -8.44799041e+06 -1.82041876e+05 -8.23940927e+04\n",
      " -5.08358185e+04 -7.94176231e+04 -7.46249512e+04 -8.89860024e+03\n",
      "  3.15853867e+04  4.77738519e+03 -8.89860024e+03  1.49172962e+04\n",
      "  2.52459729e+04  3.15853867e+04  2.27425745e+04  4.77738519e+03\n",
      " -8.89860024e+03  1.36076280e+06  2.85156093e+04  1.49172962e+04\n",
      "  4.47126371e+04  2.52459729e+04  3.15853867e+04 -6.90376004e+02\n",
      "  2.27425745e+04  4.77738519e+03 -8.89860024e+03]\n",
      "Mean squared error: 245246982.06\n",
      "Coefficient of determination: 0.91\n"
     ]
    }
   ],
   "source": [
    "y_pred_cv = model.predict(X_cv_mapped_scaled)\n",
    "y_pred_train = model.predict(X_train_mapped_scaled)\n",
    "\n",
    "# The coefficients\n",
    "print(\"Coefficients: \\n\", model.coef_)\n",
    "# The mean squared error\n",
    "print(\"Mean squared error: %.2f\" % mean_squared_error(y_cv, y_pred_cv))\n",
    "# The coefficient of determination: 1 is perfect prediction\n",
    "print(\"Coefficient of determination: %.2f\" % r2_score(y_cv, y_pred_cv))"
   ]
  },
  {
   "cell_type": "code",
   "execution_count": 31,
   "id": "ab2b119f",
   "metadata": {},
   "outputs": [
    {
     "name": "stdout",
     "output_type": "stream",
     "text": [
      "Training MSE : 213109274\n",
      "Cross Validation MSE:  245246982\n"
     ]
    }
   ],
   "source": [
    "y_pred_cv = model.predict(X_cv_mapped_scaled)\n",
    "y_pred_train = model.predict(X_train_mapped_scaled)\n",
    "train_mse = mean_squared_error(y_train, y_pred_train)\n",
    "cv_mse = mean_squared_error(y_cv, y_pred_cv)\n",
    "print(f\"Training MSE : {train_mse:.0f}\")\n",
    "print(f\"Cross Validation MSE: {cv_mse: .0f}\")"
   ]
  },
  {
   "cell_type": "markdown",
   "id": "a3c0d9e4",
   "metadata": {},
   "source": [
    "The model is more accurate with degree 2"
   ]
  },
  {
   "cell_type": "markdown",
   "id": "41044c65",
   "metadata": {},
   "source": [
    "### 4.1 Let's try various degrees of polynomial to see if our model gets more accurate"
   ]
  },
  {
   "cell_type": "code",
   "execution_count": 32,
   "id": "5a7790c5",
   "metadata": {},
   "outputs": [],
   "source": [
    "def train_plot_poly(model, x_train, y_train, x_cv, y_cv, max_degree=10, baseline=None):\n",
    "    \n",
    "    train_mses = []\n",
    "    cv_mses = []\n",
    "    models = []\n",
    "    scalers = []\n",
    "    degrees = range(1,max_degree+1)\n",
    "\n",
    "    # Loop over 10 times. Each adding one more degree of polynomial higher than the last.\n",
    "    for degree in degrees:\n",
    "        print(f\"Dgree {degree}:\")\n",
    "        # Add polynomial features to the training set\n",
    "        poly = PolynomialFeatures(degree, include_bias=False)\n",
    "        X_train_mapped = poly.fit_transform(x_train)\n",
    "\n",
    "        # Scale the training set\n",
    "        scaler_poly = StandardScaler()\n",
    "        X_train_mapped_scaled = scaler_poly.fit_transform(X_train_mapped)\n",
    "        scalers.append(scaler_poly)\n",
    "\n",
    "        # Create and train the model\n",
    "        model.fit(X_train_mapped_scaled, y_train )\n",
    "        models.append(model)\n",
    "\n",
    "        # Compute the training MSE\n",
    "        yhat = model.predict(X_train_mapped_scaled)\n",
    "        train_mse = mean_squared_error(y_train, yhat)\n",
    "        print(f\"     Train mse: {train_mse: .0f}\")\n",
    "        train_mses.append(train_mse)\n",
    "\n",
    "        # Add polynomial features and scale the cross-validation set\n",
    "        poly = PolynomialFeatures(degree, include_bias=False)\n",
    "        X_cv_mapped = poly.fit_transform(x_cv)\n",
    "        X_cv_mapped_scaled = scaler_poly.transform(X_cv_mapped)\n",
    "\n",
    "        # Compute the cross-validation MSE\n",
    "        yhat = model.predict(X_cv_mapped_scaled)\n",
    "        cv_mse = mean_squared_error(y_cv, yhat)\n",
    "        print(f\"     cv mse: {cv_mse: .0f}\")\n",
    "        cv_mses.append(cv_mse)\n",
    "        print (f\"     MSE delta: {abs(cv_mse-train_mse): .0f}\")\n",
    "        print(f\"      Coefficient of determination (r2 score): {r2_score(y_cv, yhat): .2f}\")\n",
    "\n",
    "    # Plot the results\n",
    "    \n",
    "    plt.plot(degrees, train_mses, marker='o', c='r', label='training MSEs'); \n",
    "    plt.plot(degrees, cv_mses, marker='o', c='b', label='CV MSEs'); \n",
    "    plt.plot(degrees, np.repeat(baseline, len(degrees)), linestyle='--', label='baseline')\n",
    "    plt.title(\"degree of polynomial vs. train and CV MSEs\")\n",
    "    plt.xticks(degrees)\n",
    "    plt.xlabel(\"degree\"); \n",
    "    plt.ylabel(\"MSE\"); \n",
    "    plt.legend()\n",
    "    plt.show()"
   ]
  },
  {
   "cell_type": "code",
   "execution_count": 33,
   "id": "38fa43dc",
   "metadata": {},
   "outputs": [],
   "source": [
    "X_train, y_train, X_cv, y_cv, X_test, y_test = prepare_train_cv_test (X, y)"
   ]
  },
  {
   "cell_type": "code",
   "execution_count": 34,
   "id": "2af3acb1",
   "metadata": {},
   "outputs": [
    {
     "name": "stdout",
     "output_type": "stream",
     "text": [
      " Training Data shape: (223, 5)\n",
      " Cross Validation Data shape: (75, 5)\n",
      " Test Data shape: (75, 5)\n"
     ]
    }
   ],
   "source": [
    "print(f\" Training Data shape: {X_train.shape}\")\n",
    "print(f\" Cross Validation Data shape: {X_cv.shape}\")\n",
    "print(f\" Test Data shape: {X_test.shape}\")"
   ]
  },
  {
   "cell_type": "code",
   "execution_count": 35,
   "id": "85f2f973",
   "metadata": {},
   "outputs": [
    {
     "name": "stdout",
     "output_type": "stream",
     "text": [
      "Dgree 1:\n",
      "     Train mse:  278971519\n",
      "     cv mse:  311593536\n",
      "     MSE delta:  32622017\n",
      "      Coefficient of determination (r2 score):  0.88\n",
      "Dgree 2:\n",
      "     Train mse:  246224664\n",
      "     cv mse:  266325081\n",
      "     MSE delta:  20100417\n",
      "      Coefficient of determination (r2 score):  0.90\n",
      "Dgree 3:\n",
      "     Train mse:  213109274\n",
      "     cv mse:  225327409\n",
      "     MSE delta:  12218135\n",
      "      Coefficient of determination (r2 score):  0.92\n",
      "Dgree 4:\n",
      "     Train mse:  158774489\n",
      "     cv mse:  1021247386\n",
      "     MSE delta:  862472897\n",
      "      Coefficient of determination (r2 score):  0.62\n",
      "Dgree 5:\n",
      "     Train mse:  90293603\n",
      "     cv mse:  55362825665\n",
      "     MSE delta:  55272532062\n",
      "      Coefficient of determination (r2 score): -19.73\n",
      "Dgree 6:\n",
      "     Train mse:  35061619\n",
      "     cv mse:  113175647043\n",
      "     MSE delta:  113140585424\n",
      "      Coefficient of determination (r2 score): -41.39\n",
      "Dgree 7:\n",
      "     Train mse:  4844522\n",
      "     cv mse:  66340084800887144448\n",
      "     MSE delta:  66340084800882302976\n",
      "      Coefficient of determination (r2 score): -24845481848.27\n",
      "Dgree 8:\n",
      "     Train mse:  896861\n",
      "     cv mse:  31494757779196121088\n",
      "     MSE delta:  31494757779195224064\n",
      "      Coefficient of determination (r2 score): -11795318547.34\n",
      "Dgree 9:\n",
      "     Train mse:  896861\n",
      "     cv mse:  225071720716129600\n",
      "     MSE delta:  225071720715232736\n",
      "      Coefficient of determination (r2 score): -84293158.54\n",
      "Dgree 10:\n",
      "     Train mse:  896861\n",
      "     cv mse:  30601294677113436\n",
      "     MSE delta:  30601294676216576\n",
      "      Coefficient of determination (r2 score): -11460700.53\n"
     ]
    },
    {
     "data": {
      "image/png": "[encoded data removed]",
      "text/plain": [
       "<Figure size 432x288 with 1 Axes>"
      ]
     },
     "metadata": {
      "needs_background": "light"
     },
     "output_type": "display_data"
    }
   ],
   "source": [
    "train_plot_poly(model, X_train, y_train, X_cv, y_cv, max_degree =10, baseline= 122122122)"
   ]
  },
  {
   "cell_type": "markdown",
   "id": "04cc433a",
   "metadata": {},
   "source": [
    "### Conclusion:  Based on the analysis above, a regression model with additional features (original features + 3 degree polynomial) performs the best.\n",
    "- The accuracy is 91%\n",
    "- MSE for Training and Cross Validation dataset are the lowest and close to each other"
   ]
  },
  {
   "cell_type": "code",
   "execution_count": null,
   "id": "2dba673f",
   "metadata": {},
   "outputs": [],
   "source": []
  }
 ],
 "metadata": {
  "kernelspec": {
   "display_name": "PythonData2",
   "language": "python",
   "name": "pythondata2"
  },
  "language_info": {
   "codemirror_mode": {
    "name": "ipython",
    "version": 3
   },
   "file_extension": ".py",
   "mimetype": "text/x-python",
   "name": "python",
   "nbconvert_exporter": "python",
   "pygments_lexer": "ipython3",
   "version": "3.7.7"
  }
 },
 "nbformat": 4,
 "nbformat_minor": 5
}
