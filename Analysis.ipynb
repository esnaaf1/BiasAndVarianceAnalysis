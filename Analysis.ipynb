{
 "cells": [
  {
   "cell_type": "markdown",
   "id": "b490d962",
   "metadata": {},
   "source": [
    "# Analysis of Bias and Variance in a linear regression model\n",
    "In this notebook, using a salary prediction dataset called salary prediction dataset https://www.kaggle.com/datasets/rkiattisak/salaly-prediction-for-beginer \n",
    ",we will analyze the bias and prediction using different features of the dataset"
   ]
  },
  {
   "cell_type": "code",
   "execution_count": 1,
   "id": "6cc31a5f",
   "metadata": {},
   "outputs": [],
   "source": [
    "# Import libraries\n",
    "import numpy as np\n",
    "import pandas as pd\n",
    "import matplotlib.pyplot as plt\n",
    "import seaborn as sns\n",
    "from sklearn.linear_model import LinearRegression\n",
    "from sklearn.model_selection import train_test_split\n",
    "from sklearn.metrics import mean_squared_error\n",
    "from sklearn.preprocessing import StandardScaler, PolynomialFeatures, LabelEncoder"
   ]
  },
  {
   "cell_type": "code",
   "execution_count": 2,
   "id": "10cb7ae1",
   "metadata": {},
   "outputs": [],
   "source": [
    "# Read the data\n",
    "\n",
    "salary_data = pd.read_csv(\"data/Salary Data.csv\")"
   ]
  },
  {
   "cell_type": "code",
   "execution_count": 3,
   "id": "7b278625",
   "metadata": {},
   "outputs": [
    {
     "data": {
      "text/html": [
       "<div>\n",
       "<style scoped>\n",
       "    .dataframe tbody tr th:only-of-type {\n",
       "        vertical-align: middle;\n",
       "    }\n",
       "\n",
       "    .dataframe tbody tr th {\n",
       "        vertical-align: top;\n",
       "    }\n",
       "\n",
       "    .dataframe thead th {\n",
       "        text-align: right;\n",
       "    }\n",
       "</style>\n",
       "<table border=\"1\" class=\"dataframe\">\n",
       "  <thead>\n",
       "    <tr style=\"text-align: right;\">\n",
       "      <th></th>\n",
       "      <th>Age</th>\n",
       "      <th>Gender</th>\n",
       "      <th>Education Level</th>\n",
       "      <th>Job Title</th>\n",
       "      <th>Years of Experience</th>\n",
       "      <th>Salary</th>\n",
       "    </tr>\n",
       "  </thead>\n",
       "  <tbody>\n",
       "    <tr>\n",
       "      <th>0</th>\n",
       "      <td>32.0</td>\n",
       "      <td>Male</td>\n",
       "      <td>Bachelor's</td>\n",
       "      <td>Software Engineer</td>\n",
       "      <td>5.0</td>\n",
       "      <td>90000.0</td>\n",
       "    </tr>\n",
       "    <tr>\n",
       "      <th>1</th>\n",
       "      <td>28.0</td>\n",
       "      <td>Female</td>\n",
       "      <td>Master's</td>\n",
       "      <td>Data Analyst</td>\n",
       "      <td>3.0</td>\n",
       "      <td>65000.0</td>\n",
       "    </tr>\n",
       "    <tr>\n",
       "      <th>2</th>\n",
       "      <td>45.0</td>\n",
       "      <td>Male</td>\n",
       "      <td>PhD</td>\n",
       "      <td>Senior Manager</td>\n",
       "      <td>15.0</td>\n",
       "      <td>150000.0</td>\n",
       "    </tr>\n",
       "    <tr>\n",
       "      <th>3</th>\n",
       "      <td>36.0</td>\n",
       "      <td>Female</td>\n",
       "      <td>Bachelor's</td>\n",
       "      <td>Sales Associate</td>\n",
       "      <td>7.0</td>\n",
       "      <td>60000.0</td>\n",
       "    </tr>\n",
       "    <tr>\n",
       "      <th>4</th>\n",
       "      <td>52.0</td>\n",
       "      <td>Male</td>\n",
       "      <td>Master's</td>\n",
       "      <td>Director</td>\n",
       "      <td>20.0</td>\n",
       "      <td>200000.0</td>\n",
       "    </tr>\n",
       "  </tbody>\n",
       "</table>\n",
       "</div>"
      ],
      "text/plain": [
       "    Age  Gender Education Level          Job Title  Years of Experience  \\\n",
       "0  32.0    Male      Bachelor's  Software Engineer                  5.0   \n",
       "1  28.0  Female        Master's       Data Analyst                  3.0   \n",
       "2  45.0    Male             PhD     Senior Manager                 15.0   \n",
       "3  36.0  Female      Bachelor's    Sales Associate                  7.0   \n",
       "4  52.0    Male        Master's           Director                 20.0   \n",
       "\n",
       "     Salary  \n",
       "0   90000.0  \n",
       "1   65000.0  \n",
       "2  150000.0  \n",
       "3   60000.0  \n",
       "4  200000.0  "
      ]
     },
     "execution_count": 3,
     "metadata": {},
     "output_type": "execute_result"
    }
   ],
   "source": [
    "salary_data.head()"
   ]
  },
  {
   "cell_type": "code",
   "execution_count": 4,
   "id": "ddb2d556",
   "metadata": {},
   "outputs": [
    {
     "data": {
      "text/plain": [
       "12"
      ]
     },
     "execution_count": 4,
     "metadata": {},
     "output_type": "execute_result"
    }
   ],
   "source": [
    "# Check for missing values\n",
    "salary_data.isnull().sum().sum()"
   ]
  },
  {
   "cell_type": "code",
   "execution_count": 5,
   "id": "e60f463d",
   "metadata": {},
   "outputs": [
    {
     "data": {
      "text/plain": [
       "0"
      ]
     },
     "execution_count": 5,
     "metadata": {},
     "output_type": "execute_result"
    }
   ],
   "source": [
    "# Drop any rows that have missing values\n",
    "salary_data = salary_data.dropna()\n",
    "salary_data.isnull().sum().sum()"
   ]
  },
  {
   "cell_type": "markdown",
   "id": "b7095057",
   "metadata": {},
   "source": [
    "### We want to build a model that can predict salary based on the following features:\n",
    "- Age\n",
    "- Educational Level\n",
    "- Years of Experience\n",
    "- Gender\n",
    "- Job Title"
   ]
  },
  {
   "cell_type": "code",
   "execution_count": 6,
   "id": "000180f0",
   "metadata": {},
   "outputs": [
    {
     "data": {
      "text/html": [
       "<div>\n",
       "<style scoped>\n",
       "    .dataframe tbody tr th:only-of-type {\n",
       "        vertical-align: middle;\n",
       "    }\n",
       "\n",
       "    .dataframe tbody tr th {\n",
       "        vertical-align: top;\n",
       "    }\n",
       "\n",
       "    .dataframe thead th {\n",
       "        text-align: right;\n",
       "    }\n",
       "</style>\n",
       "<table border=\"1\" class=\"dataframe\">\n",
       "  <thead>\n",
       "    <tr style=\"text-align: right;\">\n",
       "      <th></th>\n",
       "      <th>Age</th>\n",
       "      <th>Gender</th>\n",
       "      <th>Education Level</th>\n",
       "      <th>Years of Experience</th>\n",
       "      <th>Job Title</th>\n",
       "      <th>Salary</th>\n",
       "    </tr>\n",
       "  </thead>\n",
       "  <tbody>\n",
       "    <tr>\n",
       "      <th>0</th>\n",
       "      <td>32.0</td>\n",
       "      <td>Male</td>\n",
       "      <td>Bachelor's</td>\n",
       "      <td>5.0</td>\n",
       "      <td>Software Engineer</td>\n",
       "      <td>90000.0</td>\n",
       "    </tr>\n",
       "    <tr>\n",
       "      <th>1</th>\n",
       "      <td>28.0</td>\n",
       "      <td>Female</td>\n",
       "      <td>Master's</td>\n",
       "      <td>3.0</td>\n",
       "      <td>Data Analyst</td>\n",
       "      <td>65000.0</td>\n",
       "    </tr>\n",
       "    <tr>\n",
       "      <th>2</th>\n",
       "      <td>45.0</td>\n",
       "      <td>Male</td>\n",
       "      <td>PhD</td>\n",
       "      <td>15.0</td>\n",
       "      <td>Senior Manager</td>\n",
       "      <td>150000.0</td>\n",
       "    </tr>\n",
       "    <tr>\n",
       "      <th>3</th>\n",
       "      <td>36.0</td>\n",
       "      <td>Female</td>\n",
       "      <td>Bachelor's</td>\n",
       "      <td>7.0</td>\n",
       "      <td>Sales Associate</td>\n",
       "      <td>60000.0</td>\n",
       "    </tr>\n",
       "    <tr>\n",
       "      <th>4</th>\n",
       "      <td>52.0</td>\n",
       "      <td>Male</td>\n",
       "      <td>Master's</td>\n",
       "      <td>20.0</td>\n",
       "      <td>Director</td>\n",
       "      <td>200000.0</td>\n",
       "    </tr>\n",
       "  </tbody>\n",
       "</table>\n",
       "</div>"
      ],
      "text/plain": [
       "    Age  Gender Education Level  Years of Experience          Job Title  \\\n",
       "0  32.0    Male      Bachelor's                  5.0  Software Engineer   \n",
       "1  28.0  Female        Master's                  3.0       Data Analyst   \n",
       "2  45.0    Male             PhD                 15.0     Senior Manager   \n",
       "3  36.0  Female      Bachelor's                  7.0    Sales Associate   \n",
       "4  52.0    Male        Master's                 20.0           Director   \n",
       "\n",
       "     Salary  \n",
       "0   90000.0  \n",
       "1   65000.0  \n",
       "2  150000.0  \n",
       "3   60000.0  \n",
       "4  200000.0  "
      ]
     },
     "execution_count": 6,
     "metadata": {},
     "output_type": "execute_result"
    }
   ],
   "source": [
    "features = ['Age', 'Gender', 'Education Level', 'Years of Experience', 'Job Title', 'Salary']\n",
    "salary_data = salary_data[features]\n",
    "salary_data.head()"
   ]
  },
  {
   "cell_type": "markdown",
   "id": "fee440a0",
   "metadata": {},
   "source": [
    "### Let's examine the categorical columns"
   ]
  },
  {
   "cell_type": "code",
   "execution_count": 7,
   "id": "e4a287ac",
   "metadata": {},
   "outputs": [
    {
     "name": "stdout",
     "output_type": "stream",
     "text": [
      "['Male' 'Female']\n",
      "[\"Bachelor's\" \"Master's\" 'PhD']\n",
      "0                  Software Engineer\n",
      "1                       Data Analyst\n",
      "2                     Senior Manager\n",
      "3                    Sales Associate\n",
      "4                           Director\n",
      "                   ...              \n",
      "370         Senior Marketing Analyst\n",
      "371           Director of Operations\n",
      "372           Junior Project Manager\n",
      "373    Senior Operations Coordinator\n",
      "374          Senior Business Analyst\n",
      "Name: Job Title, Length: 373, dtype: object\n"
     ]
    }
   ],
   "source": [
    "print(salary_data['Gender'].unique())\n",
    "print(salary_data['Education Level'].unique())\n",
    "print(salary_data['Job Title'])"
   ]
  },
  {
   "cell_type": "markdown",
   "id": "a831d9fe",
   "metadata": {},
   "source": [
    "### We will use LabelEncoder to conver Categorical values to numeric"
   ]
  },
  {
   "cell_type": "code",
   "execution_count": 8,
   "id": "63f6f391",
   "metadata": {},
   "outputs": [],
   "source": [
    "def Encoder (df):\n",
    "    columnsToEncode = list(df.select_dtypes(include = ['category', 'object']))\n",
    "    le = LabelEncoder()\n",
    "    for feature in columnsToEncode:\n",
    "        try:\n",
    "            df[feature] = le.fit_transform(df[feature])\n",
    "        except:\n",
    "            print('Error encoding '+feature)\n",
    "    return df"
   ]
  },
  {
   "cell_type": "code",
   "execution_count": 9,
   "id": "a48113e1",
   "metadata": {},
   "outputs": [
    {
     "data": {
      "text/html": [
       "<div>\n",
       "<style scoped>\n",
       "    .dataframe tbody tr th:only-of-type {\n",
       "        vertical-align: middle;\n",
       "    }\n",
       "\n",
       "    .dataframe tbody tr th {\n",
       "        vertical-align: top;\n",
       "    }\n",
       "\n",
       "    .dataframe thead th {\n",
       "        text-align: right;\n",
       "    }\n",
       "</style>\n",
       "<table border=\"1\" class=\"dataframe\">\n",
       "  <thead>\n",
       "    <tr style=\"text-align: right;\">\n",
       "      <th></th>\n",
       "      <th>Age</th>\n",
       "      <th>Gender</th>\n",
       "      <th>Education Level</th>\n",
       "      <th>Years of Experience</th>\n",
       "      <th>Job Title</th>\n",
       "      <th>Salary</th>\n",
       "    </tr>\n",
       "  </thead>\n",
       "  <tbody>\n",
       "    <tr>\n",
       "      <th>0</th>\n",
       "      <td>32.0</td>\n",
       "      <td>1</td>\n",
       "      <td>0</td>\n",
       "      <td>5.0</td>\n",
       "      <td>159</td>\n",
       "      <td>90000.0</td>\n",
       "    </tr>\n",
       "    <tr>\n",
       "      <th>1</th>\n",
       "      <td>28.0</td>\n",
       "      <td>0</td>\n",
       "      <td>1</td>\n",
       "      <td>3.0</td>\n",
       "      <td>17</td>\n",
       "      <td>65000.0</td>\n",
       "    </tr>\n",
       "    <tr>\n",
       "      <th>2</th>\n",
       "      <td>45.0</td>\n",
       "      <td>1</td>\n",
       "      <td>2</td>\n",
       "      <td>15.0</td>\n",
       "      <td>130</td>\n",
       "      <td>150000.0</td>\n",
       "    </tr>\n",
       "    <tr>\n",
       "      <th>3</th>\n",
       "      <td>36.0</td>\n",
       "      <td>0</td>\n",
       "      <td>0</td>\n",
       "      <td>7.0</td>\n",
       "      <td>101</td>\n",
       "      <td>60000.0</td>\n",
       "    </tr>\n",
       "    <tr>\n",
       "      <th>4</th>\n",
       "      <td>52.0</td>\n",
       "      <td>1</td>\n",
       "      <td>1</td>\n",
       "      <td>20.0</td>\n",
       "      <td>22</td>\n",
       "      <td>200000.0</td>\n",
       "    </tr>\n",
       "  </tbody>\n",
       "</table>\n",
       "</div>"
      ],
      "text/plain": [
       "    Age  Gender  Education Level  Years of Experience  Job Title    Salary\n",
       "0  32.0       1                0                  5.0        159   90000.0\n",
       "1  28.0       0                1                  3.0         17   65000.0\n",
       "2  45.0       1                2                 15.0        130  150000.0\n",
       "3  36.0       0                0                  7.0        101   60000.0\n",
       "4  52.0       1                1                 20.0         22  200000.0"
      ]
     },
     "execution_count": 9,
     "metadata": {},
     "output_type": "execute_result"
    }
   ],
   "source": [
    "categorical_features = ['Gender', 'Education Level', 'Job Title']\n",
    "salary_data = Encoder(salary_data)\n",
    "salary_data.head()"
   ]
  },
  {
   "cell_type": "markdown",
   "id": "f6e9d1b7",
   "metadata": {},
   "source": [
    "## Regression Model\n",
    "### 1. Let's try with only one feature (input), for example years of experience "
   ]
  },
  {
   "cell_type": "code",
   "execution_count": 10,
   "id": "d4dc4736",
   "metadata": {},
   "outputs": [],
   "source": [
    "df_binary = salary_data[['Years of Experience', 'Salary']]"
   ]
  },
  {
   "cell_type": "markdown",
   "id": "f7582746",
   "metadata": {},
   "source": [
    "### 1.1 Explore the data"
   ]
  },
  {
   "cell_type": "code",
   "execution_count": 11,
   "id": "c0c7f60a",
   "metadata": {},
   "outputs": [
    {
     "data": {
      "image/png": "[encoded data removed]",
      "text/plain": [
       "<Figure size 360x360 with 1 Axes>"
      ]
     },
     "metadata": {
      "needs_background": "light"
     },
     "output_type": "display_data"
    }
   ],
   "source": [
    "sns.lmplot(x = 'Years of Experience', y='Salary', data = df_binary, order = 2, ci = None)\n",
    "plt.show()"
   ]
  },
  {
   "cell_type": "markdown",
   "id": "bfea763e",
   "metadata": {},
   "source": [
    "### 1.2 Train our model"
   ]
  },
  {
   "cell_type": "code",
   "execution_count": 12,
   "id": "26a475a4",
   "metadata": {},
   "outputs": [],
   "source": [
    "# Separate data into indpendent (X) and dependent variables \n",
    "# Convert the data frame into a numpy array since each dataframe contains only one column\n",
    "X = np.array(df_binary['Years of Experience']).reshape(-1,1)\n",
    "y = np.array(df_binary['Salary']).reshape(-1,1) "
   ]
  },
  {
   "cell_type": "code",
   "execution_count": 13,
   "id": "e4f479ba",
   "metadata": {},
   "outputs": [],
   "source": [
    "# Define a function to split the data\n",
    "def prepare_train_cv_test (X, y):\n",
    "    \n",
    "    # get 60% of the dataset as the training set.  Put the remaining 40% in temporary variables\n",
    "    X_train, X_, y_train, y_ = train_test_split(X, y, test_size = 0.40, random_state = 55)\n",
    "\n",
    "    # Split the 40% subset above into two: one half for cross validation and the other for the test set\n",
    "    X_cv, X_test, y_cv, y_test = train_test_split(X_, y_,  test_size = .50, random_state = 55)\n",
    "    \n",
    "    return X_train, y_train, X_cv, y_cv, X_test, y_test"
   ]
  },
  {
   "cell_type": "code",
   "execution_count": 14,
   "id": "54c7d2c3",
   "metadata": {},
   "outputs": [],
   "source": [
    "X_train, y_train, X_cv, y_cv, X_test, y_test = prepare_train_cv_test(X, y) "
   ]
  },
  {
   "cell_type": "code",
   "execution_count": 15,
   "id": "08258287",
   "metadata": {},
   "outputs": [
    {
     "name": "stdout",
     "output_type": "stream",
     "text": [
      " Model score: 0.8793582298357452\n"
     ]
    }
   ],
   "source": [
    "model= LinearRegression()\n",
    "model.fit(X_train, y_train)\n",
    "print(f\" Model score: {model.score(X_cv, y_cv )}\")"
   ]
  },
  {
   "cell_type": "markdown",
   "id": "fa95319b",
   "metadata": {},
   "source": [
    "### 1.3 Exlore the results"
   ]
  },
  {
   "cell_type": "code",
   "execution_count": 16,
   "id": "20bd26c9",
   "metadata": {},
   "outputs": [
    {
     "data": {
      "text/plain": [
       "[<matplotlib.lines.Line2D at 0x7fddc06826d0>]"
      ]
     },
     "execution_count": 16,
     "metadata": {},
     "output_type": "execute_result"
    },
    {
     "data": {
      "image/png": "[encoded data removed]",
      "text/plain": [
       "<Figure size 432x288 with 1 Axes>"
      ]
     },
     "metadata": {
      "needs_background": "light"
     },
     "output_type": "display_data"
    }
   ],
   "source": [
    "y_pred_cv = model.predict(X_cv)\n",
    "y_pred_train = model.predict(X_train)\n",
    "plt.scatter(X_cv, y_cv, color = 'b')\n",
    "plt.plot(X_cv, y_pred_cv, color ='r')"
   ]
  },
  {
   "cell_type": "code",
   "execution_count": 17,
   "id": "4d0509e4",
   "metadata": {},
   "outputs": [
    {
     "name": "stdout",
     "output_type": "stream",
     "text": [
      "Training MSE : 306379946\n",
      "Cross Validation MSE:  322126385\n"
     ]
    }
   ],
   "source": [
    "train_mse = mean_squared_error(y_train, y_pred_train)\n",
    "cv_mse = mean_squared_error(y_cv, y_pred_cv) \n",
    "print(f\"Training MSE : {train_mse:.0f}\")\n",
    "print(f\"Cross Validation MSE: {cv_mse: .0f}\")"
   ]
  },
  {
   "cell_type": "markdown",
   "id": "86a804df",
   "metadata": {},
   "source": [
    "#### The results show that the both training and Cross Validation Errors are high. This maybe due to high bias (underfit). We could one or more of the following:\n",
    "\n",
    "- Try adding additional features\n",
    "- Try decreasing the regulatiztion parameter\n",
    "- Try adding polynomial features\n",
    "\n",
    "We will try the first option\n"
   ]
  },
  {
   "cell_type": "markdown",
   "id": "2832304e",
   "metadata": {},
   "source": [
    "### 2.1 Let's try adding more features, age, gender"
   ]
  },
  {
   "cell_type": "code",
   "execution_count": 18,
   "id": "276b5333",
   "metadata": {},
   "outputs": [],
   "source": [
    "X = salary_data[['Age', 'Years of Experience', 'Gender', 'Job Title']]\n",
    "y = salary_data['Salary']"
   ]
  },
  {
   "cell_type": "markdown",
   "id": "909220df",
   "metadata": {},
   "source": [
    "### We will now split the data into train, cross validation, and test sets"
   ]
  },
  {
   "cell_type": "code",
   "execution_count": 19,
   "id": "d9d872c3",
   "metadata": {},
   "outputs": [],
   "source": [
    "# Define a function to split the data\n",
    "def prepare_train_cv_test (X, y):\n",
    "    \n",
    "    # get 60% of the dataset as the training set.  Put the remaining 40% in temporary variables\n",
    "    X_train, X_, y_train, y_ = train_test_split(X, y, test_size = 0.40, random_state = 55)\n",
    "\n",
    "    # Split the 40% subset above into two: one half for cross validation and the other for the test set\n",
    "    X_cv, X_test, y_cv, y_test = train_test_split(X_, y_,  test_size = .50, random_state = 55)\n",
    "    \n",
    "    return X_train, y_train, X_cv, y_cv, X_test, y_test"
   ]
  },
  {
   "cell_type": "code",
   "execution_count": 20,
   "id": "1b91447c",
   "metadata": {},
   "outputs": [],
   "source": [
    "X_train, y_train, X_cv, y_cv, X_test, y_test = prepare_train_cv_test (X, y)"
   ]
  },
  {
   "cell_type": "code",
   "execution_count": 21,
   "id": "ad5f6c28",
   "metadata": {},
   "outputs": [
    {
     "name": "stdout",
     "output_type": "stream",
     "text": [
      " Training Data shape: (223, 4)\n",
      " Cross Validation Data shape: (75, 4)\n",
      " Test Data shape: (75, 4)\n"
     ]
    }
   ],
   "source": [
    "print(f\" Training Data shape: {X_train.shape}\")\n",
    "print(f\" Cross Validation Data shape: {X_cv.shape}\")\n",
    "print(f\" Test Data shape: {X_test.shape}\")"
   ]
  },
  {
   "cell_type": "code",
   "execution_count": 22,
   "id": "b26f5f67",
   "metadata": {},
   "outputs": [],
   "source": [
    "# The data has different range of values, for example age and years of experience have a large range than \n",
    "# Gender and Educational Level.  We want to scale the data into new values that are easier to compare\n",
    "scale = StandardScaler()\n",
    "X_train_scaled = scale.fit_transform(X_train)\n",
    "X_cv_scaled = scale.fit_transform(X_cv)\n",
    "X_test_scaled = scale.fit_transform(X_test)"
   ]
  },
  {
   "cell_type": "markdown",
   "id": "51f93057",
   "metadata": {},
   "source": [
    "###  2.2 Train our model"
   ]
  },
  {
   "cell_type": "code",
   "execution_count": 23,
   "id": "90f8fc04",
   "metadata": {},
   "outputs": [
    {
     "name": "stdout",
     "output_type": "stream",
     "text": [
      " Model score: 0.8798624465213079\n"
     ]
    }
   ],
   "source": [
    "model.fit(X_train_scaled, y_train)\n",
    "print(f\" Model score: {model.score(X_cv_scaled, y_cv )}\")"
   ]
  },
  {
   "cell_type": "markdown",
   "id": "ca2a6b9d",
   "metadata": {},
   "source": [
    "The accuracy got better"
   ]
  },
  {
   "cell_type": "markdown",
   "id": "22ce2d49",
   "metadata": {},
   "source": [
    "### 2.3 Explore the results"
   ]
  },
  {
   "cell_type": "code",
   "execution_count": 24,
   "id": "1395cce4",
   "metadata": {},
   "outputs": [
    {
     "name": "stdout",
     "output_type": "stream",
     "text": [
      "Training MSE : 139485760\n",
      "Cross Validation MSE:  160390037\n"
     ]
    }
   ],
   "source": [
    "y_pred_cv = model.predict(X_cv_scaled)\n",
    "y_pred_train = model.predict(X_train_scaled)\n",
    "train_mse = mean_squared_error(y_train, y_pred_train) /2\n",
    "cv_mse = mean_squared_error(y_cv, y_pred_cv) /2\n",
    "print(f\"Training MSE : {train_mse:.0f}\")\n",
    "print(f\"Cross Validation MSE: {cv_mse: .0f}\")"
   ]
  },
  {
   "cell_type": "markdown",
   "id": "00d93ac4",
   "metadata": {},
   "source": [
    "The model is performing better.  Both training and Cross Validation MSE were decreased.  Can we improve it furthere?"
   ]
  },
  {
   "cell_type": "markdown",
   "id": "7fd9ba90",
   "metadata": {},
   "source": [
    "### 3.1 Let's try addition polynomial features"
   ]
  },
  {
   "cell_type": "code",
   "execution_count": 25,
   "id": "b7661138",
   "metadata": {},
   "outputs": [],
   "source": [
    "poly = PolynomialFeatures(degree=3, include_bias=False)\n",
    "X_train_mapped = poly.fit_transform(X_train)\n",
    "X_cv_mapped = poly.fit_transform(X_cv)\n",
    "X_test_mapped = poly.fit_transform(X_test)"
   ]
  },
  {
   "cell_type": "code",
   "execution_count": 26,
   "id": "7bc061cd",
   "metadata": {},
   "outputs": [],
   "source": [
    "X_train_mapped_scaled = scale.fit_transform(X_train_mapped)\n",
    "X_cv_mapped_scaled = scale.fit_transform(X_cv_mapped)\n",
    "X_test_mapped_scaled = scale.fit_transform(X_test_mapped)"
   ]
  },
  {
   "cell_type": "markdown",
   "id": "49ecb61f",
   "metadata": {},
   "source": [
    "###  3.2 Train our model"
   ]
  },
  {
   "cell_type": "code",
   "execution_count": 27,
   "id": "e77fc1f0",
   "metadata": {},
   "outputs": [
    {
     "name": "stdout",
     "output_type": "stream",
     "text": [
      " Model score: 0.9081508644503451\n"
     ]
    }
   ],
   "source": [
    "model.fit(X_train_mapped_scaled, y_train)\n",
    "print(f\" Model score: {model.score(X_cv_mapped_scaled, y_cv )}\")"
   ]
  },
  {
   "cell_type": "markdown",
   "id": "74b2e72f",
   "metadata": {},
   "source": [
    "### 3.3 Explore the results"
   ]
  },
  {
   "cell_type": "code",
   "execution_count": 28,
   "id": "6405701a",
   "metadata": {},
   "outputs": [
    {
     "name": "stdout",
     "output_type": "stream",
     "text": [
      "Training MSE : 106554637\n",
      "Cross Validation MSE:  122623491\n"
     ]
    }
   ],
   "source": [
    "y_pred_cv = model.predict(X_cv_mapped_scaled)\n",
    "y_pred_train = model.predict(X_train_mapped_scaled)\n",
    "train_mse = mean_squared_error(y_train, y_pred_train) /2\n",
    "cv_mse = mean_squared_error(y_cv, y_pred_cv) /2\n",
    "print(f\"Training MSE : {train_mse:.0f}\")\n",
    "print(f\"Cross Validation MSE: {cv_mse: .0f}\")"
   ]
  },
  {
   "cell_type": "markdown",
   "id": "b6206545",
   "metadata": {},
   "source": [
    "The model is performing even better.  Both training and Cross Validation MSE were decreased."
   ]
  },
  {
   "cell_type": "markdown",
   "id": "e00072b3",
   "metadata": {},
   "source": [
    "### 4.1 Let's try various degrees of polynomial to see if our model gets more accurate"
   ]
  },
  {
   "cell_type": "code",
   "execution_count": 29,
   "id": "a271e9fd",
   "metadata": {},
   "outputs": [],
   "source": [
    "def train_plot_poly(model, x_train, y_train, x_cv, y_cv, max_degree=10, baseline=None):\n",
    "    \n",
    "    train_mses = []\n",
    "    cv_mses = []\n",
    "    models = []\n",
    "    scalers = []\n",
    "    degrees = range(1,max_degree+1)\n",
    "\n",
    "    # Loop over 10 times. Each adding one more degree of polynomial higher than the last.\n",
    "    for degree in degrees:\n",
    "\n",
    "        # Add polynomial features to the training set\n",
    "        poly = PolynomialFeatures(degree, include_bias=False)\n",
    "        X_train_mapped = poly.fit_transform(x_train)\n",
    "\n",
    "        # Scale the training set\n",
    "        scaler_poly = StandardScaler()\n",
    "        X_train_mapped_scaled = scaler_poly.fit_transform(X_train_mapped)\n",
    "        scalers.append(scaler_poly)\n",
    "\n",
    "        # Create and train the model\n",
    "        model.fit(X_train_mapped_scaled, y_train )\n",
    "        models.append(model)\n",
    "\n",
    "        # Compute the training MSE\n",
    "        yhat = model.predict(X_train_mapped_scaled)\n",
    "        train_mse = mean_squared_error(y_train, yhat) / 2\n",
    "        print(f\"Degree {degree} Train mse: {train_mse: .0f}\")\n",
    "        train_mses.append(train_mse)\n",
    "\n",
    "        # Add polynomial features and scale the cross-validation set\n",
    "        poly = PolynomialFeatures(degree, include_bias=False)\n",
    "        X_cv_mapped = poly.fit_transform(x_cv)\n",
    "        X_cv_mapped_scaled = scaler_poly.transform(X_cv_mapped)\n",
    "\n",
    "        # Compute the cross-validation MSE\n",
    "        yhat = model.predict(X_cv_mapped_scaled)\n",
    "        cv_mse = mean_squared_error(y_cv, yhat) / 2\n",
    "        print(f\"Degree {degree} cv mse: {cv_mse: .0f}\")\n",
    "        cv_mses.append(cv_mse)\n",
    "\n",
    "    # Plot the results\n",
    "    plt.plot(degrees, train_mses, marker='o', c='r', label='training MSEs'); \n",
    "    plt.plot(degrees, cv_mses, marker='o', c='b', label='CV MSEs'); \n",
    "    plt.plot(degrees, np.repeat(baseline, len(degrees)), linestyle='--', label='baseline')\n",
    "    plt.title(\"degree of polynomial vs. train and CV MSEs\")\n",
    "    plt.xticks(degrees)\n",
    "    plt.xlabel(\"degree\"); \n",
    "    plt.ylabel(\"MSE\"); \n",
    "    plt.legend()\n",
    "    plt.show()"
   ]
  },
  {
   "cell_type": "code",
   "execution_count": 30,
   "id": "e77ce95b",
   "metadata": {},
   "outputs": [],
   "source": [
    "X_train, y_train, X_cv, y_cv, X_test, y_test = prepare_train_cv_test (X, y)"
   ]
  },
  {
   "cell_type": "code",
   "execution_count": 31,
   "id": "389d3045",
   "metadata": {},
   "outputs": [
    {
     "name": "stdout",
     "output_type": "stream",
     "text": [
      " Training Data shape: (223, 4)\n",
      " Cross Validation Data shape: (75, 4)\n",
      " Test Data shape: (75, 4)\n"
     ]
    }
   ],
   "source": [
    "print(f\" Training Data shape: {X_train.shape}\")\n",
    "print(f\" Cross Validation Data shape: {X_cv.shape}\")\n",
    "print(f\" Test Data shape: {X_test.shape}\")"
   ]
  },
  {
   "cell_type": "code",
   "execution_count": 32,
   "id": "7f0ba080",
   "metadata": {},
   "outputs": [
    {
     "name": "stdout",
     "output_type": "stream",
     "text": [
      "Degree 1 Train mse:  139485760\n",
      "Degree 1 cv mse:  155796768\n",
      "Degree 2 Train mse:  123112332\n",
      "Degree 2 cv mse:  133162540\n",
      "Degree 3 Train mse:  106554637\n",
      "Degree 3 cv mse:  112663705\n",
      "Degree 4 Train mse:  79387245\n",
      "Degree 4 cv mse:  510623693\n",
      "Degree 5 Train mse:  45146801\n",
      "Degree 5 cv mse:  27681412896\n",
      "Degree 6 Train mse:  17530809\n",
      "Degree 6 cv mse:  56587878158\n",
      "Degree 7 Train mse:  2419613\n",
      "Degree 7 cv mse:  31419318883818520576\n",
      "Degree 8 Train mse:  448430\n",
      "Degree 8 cv mse:  16336526198127925248\n",
      "Degree 9 Train mse:  448430\n",
      "Degree 9 cv mse:  205517902703991424\n",
      "Degree 10 Train mse:  448430\n",
      "Degree 10 cv mse:  21502722051731048\n"
     ]
    },
    {
     "data": {
      "image/png": "[encoded data removed]",
      "text/plain": [
       "<Figure size 432x288 with 1 Axes>"
      ]
     },
     "metadata": {
      "needs_background": "light"
     },
     "output_type": "display_data"
    }
   ],
   "source": [
    "train_plot_poly(model, X_train, y_train, X_cv, y_cv, max_degree =10, baseline= 122122122)"
   ]
  },
  {
   "cell_type": "markdown",
   "id": "2178ad71",
   "metadata": {},
   "source": [
    "Based on the above results polynomial of degree 3 seems to be best fit"
   ]
  }
 ],
 "metadata": {
  "kernelspec": {
   "display_name": "PythonData2",
   "language": "python",
   "name": "pythondata2"
  },
  "language_info": {
   "codemirror_mode": {
    "name": "ipython",
    "version": 3
   },
   "file_extension": ".py",
   "mimetype": "text/x-python",
   "name": "python",
   "nbconvert_exporter": "python",
   "pygments_lexer": "ipython3",
   "version": "3.7.7"
  }
 },
 "nbformat": 4,
 "nbformat_minor": 5
}
